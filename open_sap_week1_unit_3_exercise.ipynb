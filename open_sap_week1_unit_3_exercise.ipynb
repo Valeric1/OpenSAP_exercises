{
 "cells": [
  {
   "cell_type": "code",
   "execution_count": 1,
   "metadata": {},
   "outputs": [
    {
     "name": "stdout",
     "output_type": "stream",
     "text": [
      "eric wants to travel from ky to tn by car\n"
     ]
    }
   ],
   "source": [
    "name = input(\"Please enter a name:\")\n",
    "start = input(\"Please enter a start:\")\n",
    "destination = input(\"Please enter a destination:\")\n",
    "transport = input(\"Please enter a means of transportation:\")\n",
    "print(name, \"wants to travel from\", start, \"to\", destination, \"by\", transport)\n"
   ]
  }
 ],
 "metadata": {
  "kernelspec": {
   "display_name": "Python 3",
   "language": "python",
   "name": "python3"
  },
  "language_info": {
   "codemirror_mode": {
    "name": "ipython",
    "version": 3
   },
   "file_extension": ".py",
   "mimetype": "text/x-python",
   "name": "python",
   "nbconvert_exporter": "python",
   "pygments_lexer": "ipython3",
   "version": "3.11.8"
  }
 },
 "nbformat": 4,
 "nbformat_minor": 2
}
