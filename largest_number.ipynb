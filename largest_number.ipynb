{
 "cells": [
  {
   "cell_type": "code",
   "execution_count": 1,
   "metadata": {},
   "outputs": [
    {
     "name": "stdout",
     "output_type": "stream",
     "text": [
      "The largest number is 60\n"
     ]
    }
   ],
   "source": [
    "first_number = int(input(\"Please enter first number:\"))\n",
    "second_number = int(input(\"Please enter second number:\"))\n",
    "third_number = int(input(\"Please enter third number:\"))\n",
    "\n",
    "if (first_number >= second_number) and (first_number >= third_number):\n",
    "    largest = first_number\n",
    "elif (second_number >= first_number) and ( second_number >= third_number):\n",
    "    largest = second_number\n",
    "else:\n",
    "    largest = third_number\n",
    "    \n",
    "print(\"The largest number is\", largest) \n",
    "       \n",
    "    "
   ]
  },
  {
   "cell_type": "code",
   "execution_count": null,
   "metadata": {},
   "outputs": [],
   "source": []
  }
 ],
 "metadata": {
  "kernelspec": {
   "display_name": "Python 3",
   "language": "python",
   "name": "python3"
  },
  "language_info": {
   "codemirror_mode": {
    "name": "ipython",
    "version": 3
   },
   "file_extension": ".py",
   "mimetype": "text/x-python",
   "name": "python",
   "nbconvert_exporter": "python",
   "pygments_lexer": "ipython3",
   "version": "3.11.8"
  }
 },
 "nbformat": 4,
 "nbformat_minor": 2
}
