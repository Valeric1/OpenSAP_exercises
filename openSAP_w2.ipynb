{
 "cells": [
  {
   "cell_type": "code",
   "execution_count": 1,
   "metadata": {},
   "outputs": [
    {
     "name": "stdout",
     "output_type": "stream",
     "text": [
      "[0, 1, 1, 2, 3, 5, 8, 13, 21]\n"
     ]
    }
   ],
   "source": [
    "my_number_list = [0,1,1,2,3,5,8,13,21]\n",
    "print(my_number_list)"
   ]
  },
  {
   "cell_type": "code",
   "execution_count": 3,
   "metadata": {},
   "outputs": [
    {
     "name": "stdout",
     "output_type": "stream",
     "text": [
      "The list contains the number 5\n"
     ]
    }
   ],
   "source": [
    "prime_numbers = [2,3,5,7,13,17,19,23,29,31,37,41,43,47]\n",
    "my_number = int(input(\"Please enter a number: \"))\n",
    "\n",
    "if my_number in prime_numbers:\n",
    "    print(\"The list contains the number\", my_number)\n",
    "else:\n",
    "    print(\"The list does not contain the number\", my_number)    \n",
    "    "
   ]
  },
  {
   "cell_type": "code",
   "execution_count": 7,
   "metadata": {},
   "outputs": [
    {
     "name": "stdout",
     "output_type": "stream",
     "text": [
      "rat\n"
     ]
    }
   ],
   "source": [
    "records = [[\"Dog\", \"cat\", \"rat\"],\n",
    "    [\"Bird\", \"pig\", \"Cow\"]]\n",
    "#print(records[0])\n",
    "print(records[0][-1])\n",
    "\n",
    "\n"
   ]
  },
  {
   "cell_type": "code",
   "execution_count": null,
   "metadata": {},
   "outputs": [],
   "source": [
    "star_wars_movies = [  \n",
    "[\"The Phantom Menace\", \"Attack of the Clones\", \"Revenge of the Sith\"],  \n",
    "[\"A New Hope\", \"The Empire Strikes Back\", \"Return of the Jedi\"],   \n",
    "[\"The Force Awakens\", \"The Last Jedi\", \"The Rise of Skywalker\"],\n",
    "]\n",
    "print(\"What is the trilogy?\")"
   ]
  }
 ],
 "metadata": {
  "kernelspec": {
   "display_name": "Python 3",
   "language": "python",
   "name": "python3"
  },
  "language_info": {
   "codemirror_mode": {
    "name": "ipython",
    "version": 3
   },
   "file_extension": ".py",
   "mimetype": "text/x-python",
   "name": "python",
   "nbconvert_exporter": "python",
   "pygments_lexer": "ipython3",
   "version": "3.11.8"
  }
 },
 "nbformat": 4,
 "nbformat_minor": 2
}
